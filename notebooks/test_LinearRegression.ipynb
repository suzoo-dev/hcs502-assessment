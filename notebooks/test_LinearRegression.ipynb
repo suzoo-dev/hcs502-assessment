{
 "cells": [
  {
   "cell_type": "code",
   "execution_count": null,
   "id": "75256503",
   "metadata": {},
   "outputs": [],
   "source": [
    "import config\n",
    "from sklearn.linear_model import LinearRegression\n",
    "from sklearn.metrics import mean_squared_error, r2_score, mean_absolute_error\n",
    "import statsmodels.api as sm\n",
    "from sklearn.feature_selection import f_regression"
   ]
  },
  {
   "cell_type": "code",
   "execution_count": null,
   "id": "432cbe99",
   "metadata": {},
   "outputs": [],
   "source": [
    "# Need to put the trained and scaled data into the processed folder, so can be used by the different models"
   ]
  },
  {
   "cell_type": "code",
   "execution_count": null,
   "id": "cb68ca70",
   "metadata": {},
   "outputs": [],
   "source": []
  }
 ],
 "metadata": {
  "language_info": {
   "name": "python"
  }
 },
 "nbformat": 4,
 "nbformat_minor": 5
}
